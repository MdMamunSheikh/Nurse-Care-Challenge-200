{
  "nbformat": 4,
  "nbformat_minor": 0,
  "metadata": {
    "colab": {
      "name": "Data labeling 2020.ipynb",
      "provenance": [],
      "collapsed_sections": [
        "U2ArfKyIw8mr",
        "klZDCn9ihW_V"
      ],
      "mount_file_id": "1BsAngdvb_Ok6OIkJ-qtflxiGLCCpOa3d",
      "authorship_tag": "ABX9TyOAD8n0bRHW/NJM6UC1fR+F",
      "include_colab_link": true
    },
    "kernelspec": {
      "name": "python3",
      "display_name": "Python 3"
    }
  },
  "cells": [
    {
      "cell_type": "markdown",
      "metadata": {
        "id": "view-in-github",
        "colab_type": "text"
      },
      "source": [
        "<a href=\"https://colab.research.google.com/github/MdMamunSheikh/Nurse-Care-Challenge-2020/blob/main/src/python/Data_labeling_2020.ipynb\" target=\"_parent\"><img src=\"https://colab.research.google.com/assets/colab-badge.svg\" alt=\"Open In Colab\"/></a>"
      ]
    },
    {
      "cell_type": "markdown",
      "metadata": {
        "id": "yiKtQdY3wtqC"
      },
      "source": [
        "###Read raw data"
      ]
    },
    {
      "cell_type": "markdown",
      "metadata": {
        "id": "U2ArfKyIw8mr"
      },
      "source": [
        "#####Import necessary libraries and module"
      ]
    },
    {
      "cell_type": "markdown",
      "metadata": {
        "id": "L9thLIF_xTre"
      },
      "source": [
        "#####File path list"
      ]
    },
    {
      "cell_type": "code",
      "metadata": {
        "id": "k_ASQQb_JcNh"
      },
      "source": [
        "import pandas as pd\n",
        "import numpy as np\n",
        "import sklearn as sk\n",
        "import matplotlib.pyplot as plt\n",
        "import pytz\n",
        "import time\n",
        " \n",
        "pd.set_option(\"display.max_row\", 1000,\"display.max_columns\",100)"
      ],
      "execution_count": null,
      "outputs": []
    },
    {
      "cell_type": "code",
      "metadata": {
        "id": "rsAU1OPBxhVu"
      },
      "source": [
        "MAIN_PATH = \"/content/drive/My Drive/ML/Nursing care activity recognitions challenge 2020/Datasets/Field/raw_field_acc_user\"\n",
        "field_users = [\"04\",\"07\",\"08\",\"18\",\"38\",\"51\"]\n",
        "field_label = \"/content/drive/My Drive/ML/Nursing care activity recognitions challenge 2020/Datasets/Field/field_label_train.csv\"\n",
        "lab_users = \"/content/drive/My Drive/ML/Nursing care activity recognitions challenge 2020/Datasets/Lab/bigact_raw_lab_acc.csv\"\n",
        "lab_label = \"/content/drive/My Drive/ML/Nursing care activity recognitions challenge 2020/Datasets/Lab/labels_lab_2users.csv\""
      ],
      "execution_count": null,
      "outputs": []
    },
    {
      "cell_type": "markdown",
      "metadata": {
        "id": "Wr_MwYrk0MYw"
      },
      "source": [
        "#####Function defination to read csv files"
      ]
    },
    {
      "cell_type": "code",
      "metadata": {
        "id": "WrNoHFrXJsIv"
      },
      "source": [
        "#function to read csv formatted file with additional features\n",
        "def read_file(f):\n",
        "#read raw file\n",
        "  tic = time.time()\n",
        "  s = time.time()\n",
        "  df = pd.read_csv(f)\n",
        "  e = time.time()\n",
        "  print(\"Time Elapsed to read csv file:\", e-s, \"seconds\\n\") \n",
        "  print(\"Raw data size before dropping N/A:\",df.shape,\"\\n\")\n",
        "#drop N/A and duplicate rows\n",
        "  s = time.time()\n",
        "  df.dropna(inplace = True)\n",
        "  print(\"Raw data size after dropping N/A:\",df.shape,\"\\n\")\n",
        "  df.drop_duplicates(inplace = True)\n",
        "  print(\"Raw data size after dropping duplicate rows:\",df.shape,\"\\n\")\n",
        "  e = time.time()\n",
        "  print(\"Time Elapsed to drop N/A and duplicate rows:\", e-s, \"seconds\\n\")\n",
        " \n",
        "  try :\n",
        "#datetime conversion\n",
        "    s = time.time()\n",
        "    df[\"datetime\"] = pd.to_datetime(df[\"datetime\"], utc = True)\n",
        "    e = time.time()\n",
        "    print(\"Time Elapsed to datetime conversion:\", e-s, \"seconds\\n\")\n",
        "#sorting according to datetime column\n",
        "    s = time.time()\n",
        "    df = df.sort_values(by = \"datetime\", ascending = True)\n",
        "    e = time.time()\n",
        "    print(\"Time Elapsed to sort dataframe:\", e-s, \"seconds\\n\")\n",
        "    toc = time.time()\n",
        "    print(\"Total Time:\",toc -tic, \"seconds\\n\\n\\n\\n\")\n",
        "#return dataframe\n",
        "    return df\n",
        "            \n",
        "  except Exception as err:\n",
        "#datetime conversion\n",
        "    s = time.time()\n",
        "    df[\"start\"] = pd.to_datetime(df[\"start\"], utc = True)\n",
        "    df[\"finish\"] = pd.to_datetime(df[\"finish\"], utc = True)\n",
        "    e = time.time()\n",
        "    print(\"Time Elapsed to datetime conversion:\", e-s, \"seconds\\n\")\n",
        "#sorting according to start column\n",
        "    s = time.time()\n",
        "    df  = df.sort_values(by = \"start\", ascending = True)\n",
        "    e = time.time()\n",
        "    print(\"Time Elapsed to sort dataframe:\", e-s, \"seconds\\n\")\n",
        "    toc = time.time()\n",
        "    print(\"Total Time:\",toc -tic, \"seconds\\n\\n\\n\\n\")\n",
        "#returm dataframe\n",
        "    return df"
      ],
      "execution_count": null,
      "outputs": []
    },
    {
      "cell_type": "markdown",
      "metadata": {
        "id": "qXy2gVdd-c8j"
      },
      "source": [
        "#####Load datasets"
      ]
    },
    {
      "cell_type": "code",
      "metadata": {
        "id": "46-zu3e75Py5",
        "colab": {
          "base_uri": "https://localhost:8080/",
          "height": 1000
        },
        "outputId": "42474b57-1d63-463c-afc8-c041d7259beb"
      },
      "source": [
        "print(\"Field label data loading...\")\n",
        "f_label = read_file(field_label)\n",
        "print(\"Lab users data loading...\")\n",
        "l_users = read_file(lab_users)\n",
        "print(\"Lab label data loading...\")\n",
        "l_label = read_file(lab_label)"
      ],
      "execution_count": null,
      "outputs": [
        {
          "output_type": "stream",
          "text": [
            "Field label data loading...\n",
            "Time Elapsed to read csv file: 0.012775182723999023 seconds\n",
            "\n",
            "Raw data size before dropping N/A: (1477, 4) \n",
            "\n",
            "Raw data size after dropping N/A: (1477, 4) \n",
            "\n",
            "Raw data size after dropping duplicate rows: (1477, 4) \n",
            "\n",
            "Time Elapsed to drop N/A and duplicate rows: 0.008674860000610352 seconds\n",
            "\n",
            "Time Elapsed to datetime conversion: 0.06871795654296875 seconds\n",
            "\n",
            "Time Elapsed to sort dataframe: 0.0012733936309814453 seconds\n",
            "\n",
            "Total Time: 0.09249591827392578 seconds\n",
            "\n",
            "\n",
            "\n",
            "\n",
            "Lab users data loading...\n",
            "Time Elapsed to read csv file: 1.0240652561187744 seconds\n",
            "\n",
            "Raw data size before dropping N/A: (1064483, 5) \n",
            "\n",
            "Raw data size after dropping N/A: (1064483, 5) \n",
            "\n",
            "Raw data size after dropping duplicate rows: (617479, 5) \n",
            "\n",
            "Time Elapsed to drop N/A and duplicate rows: 0.4566478729248047 seconds\n",
            "\n",
            "Time Elapsed to datetime conversion: 10.058229923248291 seconds\n",
            "\n",
            "Time Elapsed to sort dataframe: 0.11320972442626953 seconds\n",
            "\n",
            "Total Time: 11.653942108154297 seconds\n",
            "\n",
            "\n",
            "\n",
            "\n",
            "Lab label data loading...\n",
            "Time Elapsed to read csv file: 0.004894256591796875 seconds\n",
            "\n",
            "Raw data size before dropping N/A: (423, 4) \n",
            "\n",
            "Raw data size after dropping N/A: (423, 4) \n",
            "\n",
            "Raw data size after dropping duplicate rows: (386, 4) \n",
            "\n",
            "Time Elapsed to drop N/A and duplicate rows: 0.006062984466552734 seconds\n",
            "\n",
            "Time Elapsed to datetime conversion: 0.07219910621643066 seconds\n",
            "\n",
            "Time Elapsed to sort dataframe: 0.0012164115905761719 seconds\n",
            "\n",
            "Total Time: 0.08602213859558105 seconds\n",
            "\n",
            "\n",
            "\n",
            "\n"
          ],
          "name": "stdout"
        }
      ]
    },
    {
      "cell_type": "code",
      "metadata": {
        "id": "6vQSK0pVIv4d",
        "colab": {
          "base_uri": "https://localhost:8080/",
          "height": 242
        },
        "outputId": "410f5ef3-ad3e-4efe-9d28-a0c2a5d1de4a"
      },
      "source": [
        "user = {}\n",
        "st = time.time()\n",
        "for i in field_users:\n",
        "  print(\"user\"+i,\": Reading file...\")\n",
        "  user[i] = read_file(MAIN_PATH+i+\".csv\")\n",
        "et = time.time()\n",
        "print(\"Total time to read field users datasets:\",et-st,\"seconds\\n\")"
      ],
      "execution_count": null,
      "outputs": [
        {
          "output_type": "stream",
          "text": [
            "user04 : Reading file...\n",
            "Time Elapsed to read csv file: 17.94185709953308 seconds\n",
            "\n",
            "Raw data size before dropping N/A: (12625774, 5) \n",
            "\n",
            "Raw data size after dropping N/A: (12625774, 5) \n",
            "\n",
            "Raw data size after dropping duplicate rows: (8720962, 5) \n",
            "\n",
            "Time Elapsed to drop N/A and duplicate rows: 14.606249570846558 seconds\n",
            "\n",
            "Time Elapsed to datetime conversion: 141.51723504066467 seconds\n",
            "\n",
            "Time Elapsed to sort dataframe: 1.5204291343688965 seconds\n",
            "\n",
            "Total Time: 175.58749437332153 seconds\n",
            "\n",
            "\n",
            "\n",
            "\n",
            "user07 : Reading file...\n",
            "Time Elapsed to read csv file: 22.305169582366943 seconds\n",
            "\n",
            "Raw data size before dropping N/A: (15716507, 5) \n",
            "\n",
            "Raw data size after dropping N/A: (15716507, 5) \n",
            "\n"
          ],
          "name": "stdout"
        }
      ]
    },
    {
      "cell_type": "markdown",
      "metadata": {
        "id": "acJHaQdU-lwv"
      },
      "source": [
        "#####Shapes of the datasets"
      ]
    },
    {
      "cell_type": "code",
      "metadata": {
        "id": "cmqQm_Y5JwXc"
      },
      "source": [
        "print(\"Field label data size:\",f_label.shape)\n",
        "print(\"Lab user data size:\",l_users.shape)\n",
        "print(\"Lab label data size:\",l_label.shape)"
      ],
      "execution_count": null,
      "outputs": []
    },
    {
      "cell_type": "code",
      "metadata": {
        "id": "3NGCm1UA8czZ"
      },
      "source": [
        "for i in field_users:\n",
        "  print(\"user\"+i+\" data size\",user[i].shape)"
      ],
      "execution_count": null,
      "outputs": []
    },
    {
      "cell_type": "markdown",
      "metadata": {
        "id": "XoWrTU67-BNs"
      },
      "source": [
        "###Datasets labelling"
      ]
    },
    {
      "cell_type": "markdown",
      "metadata": {
        "id": "meeIOi-vJv9c"
      },
      "source": [
        "#####Function defination to merge dataframe"
      ]
    },
    {
      "cell_type": "code",
      "metadata": {
        "id": "Pb_jalM5ZDFA"
      },
      "source": [
        "#function to merge lab and field datasets\n",
        "def merge_df(users, label) :\n",
        "#make sure that both df have to same user_id\n",
        "  st = time.time()\n",
        "  lists = []\n",
        "  for id in users.keys():\n",
        "    print(\"user\"+id+\" processing...\\n\")\n",
        "    s = time.time()\n",
        "    mask = label[\"user_id\"] == users[id].loc[0, \"user_id\"]\n",
        "    new_df = label.loc[mask]\n",
        "    l = len(new_df)\n",
        "    new_df.index = range(l)\n",
        "    X,Y,Z,T =[],[],[],[]\n",
        "    #print(new_df)\n",
        " \n",
        "    for i in range(l) :\n",
        "      mask = (users[id].datetime >= new_df.loc[i,\"start\"]) & (users[id].datetime <= new_df.loc[i,\"finish\"])\n",
        "      df = users[id].loc[mask]\n",
        "    #  print (\"df.shape\",df.shape)\n",
        "      if df.shape[0] == 0 :\n",
        "        new_df.drop([i], inplace = True)\n",
        "      else:\n",
        "        X.append(df[\"x\"].to_numpy(dtype = np.float32).reshape(-1,1))\n",
        "        Y.append(df[\"y\"].to_numpy(dtype = np.float32).reshape(-1,1))\n",
        "        Z.append(df[\"z\"].to_numpy(dtype = np.float32).reshape(-1,1))\n",
        "        T.append(df[\"datetime\"].to_numpy().reshape(-1,1))\n",
        "    \n",
        "    new_df[\"X\"] = X\n",
        "    new_df[\"Y\"] = Y\n",
        "    new_df[\"Z\"] = Z\n",
        "    new_df[\"T\"] = T\n",
        "    new_df.index = range(len(new_df.index))\n",
        " \n",
        "    e = time.time()\n",
        "    print(\"Time Elapsed to label user\" + id + \":\", e-s, \"sec\\n\")\n",
        "    print(\"Size of user\" + id + \" before labelling:\", l,\" \\n\")\n",
        "    print(\"Size of user\" + id + \" after labelling:\", len(new_df),\"\\n\\n\\n\")\n",
        " \n",
        "    lists.append(new_df)\n",
        " \n",
        "  labelled_df = pd.concat(lists, ignore_index = True)\n",
        "  print(\"Final labelled data size:\",labelled_df.shape,\" \\n\")\n",
        "  et = time.time()\n",
        "  print(\"Total time to label datasets:\",et - st,\"seconds\\n\\n\\n\")\n",
        " \n",
        "  return labelled_df"
      ],
      "execution_count": null,
      "outputs": []
    },
    {
      "cell_type": "markdown",
      "metadata": {
        "id": "juaX935lZ_IA"
      },
      "source": [
        "#####Labelling datasets"
      ]
    },
    {
      "cell_type": "markdown",
      "metadata": {
        "id": "qtv2bUWAftve"
      },
      "source": [
        "######Field data labelling"
      ]
    },
    {
      "cell_type": "code",
      "metadata": {
        "id": "46PLbrvFLa6p"
      },
      "source": [
        "field_labelled = merge_df(user,f_label)"
      ],
      "execution_count": null,
      "outputs": []
    },
    {
      "cell_type": "code",
      "metadata": {
        "id": "78vOOE3Gc9Lx"
      },
      "source": [
        "field_labelled.info()"
      ],
      "execution_count": null,
      "outputs": []
    },
    {
      "cell_type": "markdown",
      "metadata": {
        "id": "wcjEJg5ygAaF"
      },
      "source": [
        "######Lab data labelling"
      ]
    },
    {
      "cell_type": "code",
      "metadata": {
        "id": "a9W62d_BfHka"
      },
      "source": [
        "#Don't run this cell twice.\n",
        "#add 59 seconds to \"finish\" column\n",
        "l_label.finish = l_label.finish + pd.Timedelta(seconds = 59.9999)\n",
        "l_label.head(10)"
      ],
      "execution_count": null,
      "outputs": []
    },
    {
      "cell_type": "code",
      "metadata": {
        "id": "ePnsrHRdazyK"
      },
      "source": [
        " \n",
        "#make a dictionary based on lab data\n",
        "l_user01 = l_users.loc[l_users.user_id == 1]\n",
        "l_user01.index = range(len(l_user01))\n",
        "l_user19 = l_users.loc[l_users.user_id == 19]\n",
        "l_user19.index = range(len(l_user19))\n",
        "lab_users = {\"01\":l_user01, \"19\":l_user19}\n",
        "lab_users"
      ],
      "execution_count": null,
      "outputs": []
    },
    {
      "cell_type": "code",
      "metadata": {
        "id": "lasUM8UCdH-X"
      },
      "source": [
        "lab_labelled = merge_df(lab_users,l_label)"
      ],
      "execution_count": null,
      "outputs": []
    },
    {
      "cell_type": "markdown",
      "metadata": {
        "id": "klZDCn9ihW_V"
      },
      "source": [
        "######Information about field and lab data"
      ]
    },
    {
      "cell_type": "code",
      "metadata": {
        "id": "o9dEGHa7YN-a"
      },
      "source": [
        "field_labelled.info()"
      ],
      "execution_count": null,
      "outputs": []
    },
    {
      "cell_type": "code",
      "metadata": {
        "id": "zDonXvL7hqVn"
      },
      "source": [
        "lab_labelled.info()"
      ],
      "execution_count": null,
      "outputs": []
    },
    {
      "cell_type": "markdown",
      "metadata": {
        "id": "nj9w1526aKtj"
      },
      "source": [
        "#####Save the labelled dataframe as pkl format"
      ]
    },
    {
      "cell_type": "markdown",
      "metadata": {
        "id": "ytu4hwx0WLch"
      },
      "source": [
        "Best compression parameters is zip"
      ]
    },
    {
      "cell_type": "markdown",
      "metadata": {
        "id": "sLG7ftOgh5pa"
      },
      "source": [
        "######Save and reload field data"
      ]
    },
    {
      "cell_type": "code",
      "metadata": {
        "id": "SQcX2t8IWKwa"
      },
      "source": [
        "PATH = \"/content/drive/My Drive/ML/Nursing care activity recognitions challenge 2020/Datasets/Labelled data/\"\n",
        "field_labelled.to_pickle(PATH+\"labelled_field_data.pkl\", compression = \"zip\")"
      ],
      "execution_count": null,
      "outputs": []
    },
    {
      "cell_type": "code",
      "metadata": {
        "id": "urB-JMHgYyU7"
      },
      "source": [
        "del field_labelled"
      ],
      "execution_count": null,
      "outputs": []
    },
    {
      "cell_type": "code",
      "metadata": {
        "id": "hhZX-jesY5ZQ"
      },
      "source": [
        "field_labelled = pd.read_pickle(PATH + \"labelled_field_data.pkl\", compression = \"zip\")\n",
        "field_labelled.info()"
      ],
      "execution_count": null,
      "outputs": []
    },
    {
      "cell_type": "markdown",
      "metadata": {
        "id": "xQYTnGR3iJiN"
      },
      "source": [
        "######Save and reload lab data"
      ]
    },
    {
      "cell_type": "code",
      "metadata": {
        "id": "F12uUNh-ZhkJ"
      },
      "source": [
        "lab_labelled.to_pickle(PATH + \"labelled_lab_data.pkl\", compression = \"zip\")"
      ],
      "execution_count": null,
      "outputs": []
    },
    {
      "cell_type": "code",
      "metadata": {
        "id": "A7D3_DQqil5I"
      },
      "source": [
        "del lab_labelled"
      ],
      "execution_count": null,
      "outputs": []
    },
    {
      "cell_type": "code",
      "metadata": {
        "id": "72u53gvfir5h"
      },
      "source": [
        "lab_labelled = pd.read_pickle(PATH + \"labelled_lab_data.pkl\", compression = \"zip\")\n",
        "lab_labelled.info()"
      ],
      "execution_count": null,
      "outputs": []
    },
    {
      "cell_type": "code",
      "metadata": {
        "id": "JAWNb9pn7HDr"
      },
      "source": [
        "user = pd.read_csv(lab_users)\n",
        "user.head(10)"
      ],
      "execution_count": null,
      "outputs": []
    },
    {
      "cell_type": "code",
      "metadata": {
        "id": "FVL_XXIn9CPJ"
      },
      "source": [
        "l_users.tail(1000)"
      ],
      "execution_count": null,
      "outputs": []
    },
    {
      "cell_type": "code",
      "metadata": {
        "id": "ajxTbw7C_Hkr"
      },
      "source": [
        "import pandas as pd"
      ],
      "execution_count": null,
      "outputs": []
    },
    {
      "cell_type": "code",
      "metadata": {
        "colab": {
          "base_uri": "https://localhost:8080/",
          "height": 791
        },
        "id": "S-DWp6Zv_LBJ",
        "outputId": "aa639e85-128d-4833-d44b-d19e1cced35a"
      },
      "source": [
        "df = pd.read_pickle('/content/drive/MyDrive/ML/Nursing care activity recognitions challenge 2020/Datasets/Labelled data/Field.pkl', compression = 'gzip')\n",
        "df"
      ],
      "execution_count": null,
      "outputs": [
        {
          "output_type": "execute_result",
          "data": {
            "text/html": [
              "<div>\n",
              "<style scoped>\n",
              "    .dataframe tbody tr th:only-of-type {\n",
              "        vertical-align: middle;\n",
              "    }\n",
              "\n",
              "    .dataframe tbody tr th {\n",
              "        vertical-align: top;\n",
              "    }\n",
              "\n",
              "    .dataframe thead th {\n",
              "        text-align: right;\n",
              "    }\n",
              "</style>\n",
              "<table border=\"1\" class=\"dataframe\">\n",
              "  <thead>\n",
              "    <tr style=\"text-align: right;\">\n",
              "      <th></th>\n",
              "      <th>user_id</th>\n",
              "      <th>act_id</th>\n",
              "      <th>s</th>\n",
              "      <th>f</th>\n",
              "      <th>x</th>\n",
              "      <th>y</th>\n",
              "      <th>z</th>\n",
              "      <th>t</th>\n",
              "      <th>period</th>\n",
              "    </tr>\n",
              "  </thead>\n",
              "  <tbody>\n",
              "    <tr>\n",
              "      <th>0</th>\n",
              "      <td>4</td>\n",
              "      <td>5</td>\n",
              "      <td>2018-12-02 10:27:37+09:00</td>\n",
              "      <td>2018-12-02 10:28:22+09:00</td>\n",
              "      <td>[1.3019999999999998, 5.2860000000000005, 3.332...</td>\n",
              "      <td>[8.619, 8.121, 5.707000000000001, 7.125, 7.047...</td>\n",
              "      <td>[2.872, 0.027999999999999997, 7.39, 7.153, 0.2...</td>\n",
              "      <td>[2018-12-02 10:27:57.262000+09:00, 2018-12-02 ...</td>\n",
              "      <td>0 days 00:00:45</td>\n",
              "    </tr>\n",
              "    <tr>\n",
              "      <th>1</th>\n",
              "      <td>4</td>\n",
              "      <td>5</td>\n",
              "      <td>2018-12-02 10:32:58+09:00</td>\n",
              "      <td>2018-12-02 10:33:29+09:00</td>\n",
              "      <td>[2.26, 1.915, 4.06, 8.466000000000001, 8.083, ...</td>\n",
              "      <td>[9.385, 8.351, 8.466000000000001, 4.022, 3.293...</td>\n",
              "      <td>[4.059, 3.514, 0.35700000000000004, -0.401, -2...</td>\n",
              "      <td>[2018-12-02 10:33:07.177000+09:00, 2018-12-02 ...</td>\n",
              "      <td>0 days 00:00:31</td>\n",
              "    </tr>\n",
              "    <tr>\n",
              "      <th>2</th>\n",
              "      <td>4</td>\n",
              "      <td>4</td>\n",
              "      <td>2018-12-02 10:33:31+09:00</td>\n",
              "      <td>2018-12-02 10:34:25+09:00</td>\n",
              "      <td>[1.072, 2.26, 0.038, 0.8420000000000001, -0.38...</td>\n",
              "      <td>[9.577, 8.504, 10.764000000000001, 11.147, 9.3...</td>\n",
              "      <td>[1.851, 3.022, 0.099, 0.408, -0.068, 0.113, 1....</td>\n",
              "      <td>[2018-12-02 10:33:45.773000+09:00, 2018-12-02 ...</td>\n",
              "      <td>0 days 00:00:54</td>\n",
              "    </tr>\n",
              "    <tr>\n",
              "      <th>3</th>\n",
              "      <td>4</td>\n",
              "      <td>5</td>\n",
              "      <td>2018-12-02 10:34:29+09:00</td>\n",
              "      <td>2018-12-02 10:35:09+09:00</td>\n",
              "      <td>[5.631, 3.409, 0.038, 4.06, 3.141, 7.7, 2.7960...</td>\n",
              "      <td>[9.04, 9.423, 10.075, 8.274, 8.083, 4.865, 9.6...</td>\n",
              "      <td>[0.064, 0.08, -0.314, 0.242, 0.309, 6.34399999...</td>\n",
              "      <td>[2018-12-02 10:34:42.184000+09:00, 2018-12-02 ...</td>\n",
              "      <td>0 days 00:00:40</td>\n",
              "    </tr>\n",
              "    <tr>\n",
              "      <th>4</th>\n",
              "      <td>4</td>\n",
              "      <td>4</td>\n",
              "      <td>2018-12-02 11:49:03+09:00</td>\n",
              "      <td>2018-12-02 11:50:02+09:00</td>\n",
              "      <td>[-5.478, -3.792, 1.838, -0.996, -1.87699999999...</td>\n",
              "      <td>[11.684000000000001, 7.355, 9.193999999999999,...</td>\n",
              "      <td>[0.068, 0.16, 0.275, 0.32799999999999996, -0.0...</td>\n",
              "      <td>[2018-12-02 11:49:52.466000+09:00, 2018-12-02 ...</td>\n",
              "      <td>0 days 00:00:59</td>\n",
              "    </tr>\n",
              "    <tr>\n",
              "      <th>...</th>\n",
              "      <td>...</td>\n",
              "      <td>...</td>\n",
              "      <td>...</td>\n",
              "      <td>...</td>\n",
              "      <td>...</td>\n",
              "      <td>...</td>\n",
              "      <td>...</td>\n",
              "      <td>...</td>\n",
              "      <td>...</td>\n",
              "    </tr>\n",
              "    <tr>\n",
              "      <th>933</th>\n",
              "      <td>51</td>\n",
              "      <td>12</td>\n",
              "      <td>2018-12-28 18:50:15+09:00</td>\n",
              "      <td>2018-12-28 18:50:23+09:00</td>\n",
              "      <td>[8.619, -1.072, 7.278, 7.316, 6.397, 9.921, 6....</td>\n",
              "      <td>[5.861000000000001, 9.577, 7.776, 5.3629999999...</td>\n",
              "      <td>[-0.05, 0.03, 0.319, 3.8480000000000003, -0.30...</td>\n",
              "      <td>[2018-12-28 18:50:20.870000+09:00, 2018-12-28 ...</td>\n",
              "      <td>0 days 00:00:08</td>\n",
              "    </tr>\n",
              "    <tr>\n",
              "      <th>934</th>\n",
              "      <td>51</td>\n",
              "      <td>12</td>\n",
              "      <td>2018-12-29 18:02:04+09:00</td>\n",
              "      <td>2018-12-29 18:02:14+09:00</td>\n",
              "      <td>[6.704, 2.068, 5.3629999999999995, 1.646999999...</td>\n",
              "      <td>[5.784, 10.725999999999999, 7.355, 11.645, 8.5...</td>\n",
              "      <td>[0.855, 0.387, 0.392, 0.005, 0.033, 2.805, 0.3...</td>\n",
              "      <td>[2018-12-29 18:02:11.292000+09:00, 2018-12-29 ...</td>\n",
              "      <td>0 days 00:00:10</td>\n",
              "    </tr>\n",
              "    <tr>\n",
              "      <th>935</th>\n",
              "      <td>51</td>\n",
              "      <td>12</td>\n",
              "      <td>2018-12-29 18:11:36+09:00</td>\n",
              "      <td>2018-12-29 18:11:42+09:00</td>\n",
              "      <td>[0.804, 6.359, 3.0260000000000002, 2.796000000...</td>\n",
              "      <td>[8.772, 7.622999999999999, 8.964, 8.274, 11.30...</td>\n",
              "      <td>[2.5269999999999997, 0.098, 0.3989999999999999...</td>\n",
              "      <td>[2018-12-29 18:11:38.237000+09:00, 2018-12-29 ...</td>\n",
              "      <td>0 days 00:00:06</td>\n",
              "    </tr>\n",
              "    <tr>\n",
              "      <th>936</th>\n",
              "      <td>51</td>\n",
              "      <td>12</td>\n",
              "      <td>2018-12-29 18:19:57+09:00</td>\n",
              "      <td>2018-12-29 18:20:07+09:00</td>\n",
              "      <td>[7.125, -1.6469999999999998, 5.171, 8.427, 0.0...</td>\n",
              "      <td>[9.117, 9.462, 8.542, 7.507999999999999, 9.423...</td>\n",
              "      <td>[2.6910000000000003, 3.1060000000000003, 0.078...</td>\n",
              "      <td>[2018-12-29 18:20:04.183000+09:00, 2018-12-29 ...</td>\n",
              "      <td>0 days 00:00:10</td>\n",
              "    </tr>\n",
              "    <tr>\n",
              "      <th>937</th>\n",
              "      <td>51</td>\n",
              "      <td>12</td>\n",
              "      <td>2018-12-29 18:35:06+09:00</td>\n",
              "      <td>2018-12-29 18:35:15+09:00</td>\n",
              "      <td>[7.431, 6.627000000000001, -0.804, 4.482, -0.0...</td>\n",
              "      <td>[5.707000000000001, 8.006, 9.807, 7.585, 9.883...</td>\n",
              "      <td>[0.354, 0.249, 0.165, 0.32899999999999996, 0.0...</td>\n",
              "      <td>[2018-12-29 18:35:12.894000+09:00, 2018-12-29 ...</td>\n",
              "      <td>0 days 00:00:09</td>\n",
              "    </tr>\n",
              "  </tbody>\n",
              "</table>\n",
              "<p>938 rows × 9 columns</p>\n",
              "</div>"
            ],
            "text/plain": [
              "     user_id  ...          period\n",
              "0          4  ... 0 days 00:00:45\n",
              "1          4  ... 0 days 00:00:31\n",
              "2          4  ... 0 days 00:00:54\n",
              "3          4  ... 0 days 00:00:40\n",
              "4          4  ... 0 days 00:00:59\n",
              "..       ...  ...             ...\n",
              "933       51  ... 0 days 00:00:08\n",
              "934       51  ... 0 days 00:00:10\n",
              "935       51  ... 0 days 00:00:06\n",
              "936       51  ... 0 days 00:00:10\n",
              "937       51  ... 0 days 00:00:09\n",
              "\n",
              "[938 rows x 9 columns]"
            ]
          },
          "metadata": {
            "tags": []
          },
          "execution_count": 4
        }
      ]
    },
    {
      "cell_type": "code",
      "metadata": {
        "id": "ExgZB2Pq_z7j"
      },
      "source": [
        ""
      ],
      "execution_count": null,
      "outputs": []
    }
  ]
}